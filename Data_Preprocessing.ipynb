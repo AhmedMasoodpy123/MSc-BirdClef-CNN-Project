{
 "cells": [
  {
   "cell_type": "code",
   "execution_count": null,
   "metadata": {
    "colab": {},
    "colab_type": "code",
    "executionInfo": {
     "elapsed": 1067,
     "status": "ok",
     "timestamp": 1598643449427,
     "user": {
      "displayName": "Daniyal Ahmed",
      "photoUrl": "",
      "userId": "08861004385506740697"
     },
     "user_tz": -300
    },
    "id": "9-AxYy926yG7"
   },
   "outputs": [],
   "source": [
    "import sys"
   ]
  },
  {
   "cell_type": "code",
   "execution_count": null,
   "metadata": {
    "colab": {
     "base_uri": "https://localhost:8080/",
     "height": 122
    },
    "colab_type": "code",
    "executionInfo": {
     "elapsed": 60978,
     "status": "ok",
     "timestamp": 1598643509446,
     "user": {
      "displayName": "Daniyal Ahmed",
      "photoUrl": "",
      "userId": "08861004385506740697"
     },
     "user_tz": -300
    },
    "id": "oDr3i-FH_tWR",
    "outputId": "24850c49-4c39-42bd-b7fb-a07f01ad0107"
   },
   "outputs": [],
   "source": [
    "from google.colab import drive\n",
    "drive.mount(\"mnt\", force_remount=True)"
   ]
  },
  {
   "cell_type": "code",
   "execution_count": null,
   "metadata": {
    "colab": {
     "base_uri": "https://localhost:8080/",
     "height": 34
    },
    "colab_type": "code",
    "executionInfo": {
     "elapsed": 1334,
     "status": "ok",
     "timestamp": 1598643517330,
     "user": {
      "displayName": "Daniyal Ahmed",
      "photoUrl": "",
      "userId": "08861004385506740697"
     },
     "user_tz": -300
    },
    "id": "-sNZoj_B_1Jw",
    "outputId": "34284d37-ebf7-459e-bc45-db8171d19737"
   },
   "outputs": [],
   "source": [
    "%cd \"/content/mnt/My Drive/Data/train_data/BirdCLEF2020_Train_Audio/audio\""
   ]
  },
  {
   "cell_type": "code",
   "execution_count": null,
   "metadata": {
    "colab": {},
    "colab_type": "code",
    "executionInfo": {
     "elapsed": 663,
     "status": "ok",
     "timestamp": 1598643518321,
     "user": {
      "displayName": "Daniyal Ahmed",
      "photoUrl": "",
      "userId": "08861004385506740697"
     },
     "user_tz": -300
    },
    "id": "nwTzCwveO3Tu"
   },
   "outputs": [],
   "source": [
    "path=\"/content/mnt/My Drive/Data/train_data/BirdCLEF2020_Train_Audio/audio/\"\n"
   ]
  },
  {
   "cell_type": "code",
   "execution_count": null,
   "metadata": {
    "colab": {
     "base_uri": "https://localhost:8080/",
     "height": 170
    },
    "colab_type": "code",
    "executionInfo": {
     "elapsed": 16955,
     "status": "ok",
     "timestamp": 1598643536268,
     "user": {
      "displayName": "Daniyal Ahmed",
      "photoUrl": "",
      "userId": "08861004385506740697"
     },
     "user_tz": -300
    },
    "id": "QD7j3LU9AMDL",
    "outputId": "8c0c1d91-b972-45c9-8043-40042fd88a70"
   },
   "outputs": [],
   "source": [
    "!pip3 install import_ipynb\n",
    "import import_ipynb"
   ]
  },
  {
   "cell_type": "code",
   "execution_count": null,
   "metadata": {
    "colab": {},
    "colab_type": "code",
    "executionInfo": {
     "elapsed": 7275,
     "status": "ok",
     "timestamp": 1598643547349,
     "user": {
      "displayName": "Daniyal Ahmed",
      "photoUrl": "",
      "userId": "08861004385506740697"
     },
     "user_tz": -300
    },
    "id": "-vHm0ypGAYbz"
   },
   "outputs": [],
   "source": [
    "import librosa\n",
    "import numpy as np\n",
    "import matplotlib.pyplot as plt\n",
    "from matplotlib.colors import LogNorm\n",
    "%matplotlib inline"
   ]
  },
  {
   "cell_type": "code",
   "execution_count": null,
   "metadata": {
    "colab": {},
    "colab_type": "code",
    "executionInfo": {
     "elapsed": 6899,
     "status": "ok",
     "timestamp": 1598643547351,
     "user": {
      "displayName": "Daniyal Ahmed",
      "photoUrl": "",
      "userId": "08861004385506740697"
     },
     "user_tz": -300
    },
    "id": "kObZZqIyAf25"
   },
   "outputs": [],
   "source": [
    "plt.rcParams['axes.titlesize'] = 20\n",
    "plt.rcParams['axes.labelsize'] = 20\n",
    "plt.rcParams['xtick.labelsize'] = 18\n",
    "plt.rcParams['ytick.labelsize'] = 18"
   ]
  },
  {
   "cell_type": "code",
   "execution_count": null,
   "metadata": {
    "colab": {},
    "colab_type": "code",
    "executionInfo": {
     "elapsed": 8729,
     "status": "ok",
     "timestamp": 1598643549641,
     "user": {
      "displayName": "Daniyal Ahmed",
      "photoUrl": "",
      "userId": "08861004385506740697"
     },
     "user_tz": -300
    },
    "id": "B9OrS_eXAqbL"
   },
   "outputs": [],
   "source": [
    " ## read in\n",
    "file_path = 'Accipiter_cooperii_Coopers_Hawk/XC503265.mp3'\n",
    "sig_orig, sr_orig = librosa.load(file_path,sr=None)\n",
    "\n",
    "## resample\n",
    "#sig_orig = librosa.resample(sig_orig, sr_orig, 44100)\n",
    "\n",
    "## Mel power spectrogram\n",
    "melspec = librosa.feature.melspectrogram(y=sig_orig, sr=sr_orig)"
   ]
  },
  {
   "cell_type": "code",
   "execution_count": null,
   "metadata": {
    "colab": {
     "base_uri": "https://localhost:8080/",
     "height": 51
    },
    "colab_type": "code",
    "executionInfo": {
     "elapsed": 8505,
     "status": "ok",
     "timestamp": 1598643549647,
     "user": {
      "displayName": "Daniyal Ahmed",
      "photoUrl": "",
      "userId": "08861004385506740697"
     },
     "user_tz": -300
    },
    "id": "saluGyE21N01",
    "outputId": "9cddf971-a78a-4f24-b849-0834533d99ce"
   },
   "outputs": [],
   "source": [
    "print(sr_orig)\n",
    "print(sig_orig)"
   ]
  },
  {
   "cell_type": "code",
   "execution_count": null,
   "metadata": {
    "colab": {
     "base_uri": "https://localhost:8080/",
     "height": 411
    },
    "colab_type": "code",
    "executionInfo": {
     "elapsed": 9353,
     "status": "ok",
     "timestamp": 1598643550755,
     "user": {
      "displayName": "Daniyal Ahmed",
      "photoUrl": "",
      "userId": "08861004385506740697"
     },
     "user_tz": -300
    },
    "id": "Sev3AumSNEBo",
    "outputId": "63fd9897-b077-4ca9-ff97-d28bf203402a"
   },
   "outputs": [],
   "source": [
    "plt.figure(figsize=(12,7))\n",
    "plt.imshow(melspec[:,:int(melspec.shape[1]/8.)], norm=LogNorm())\n",
    "plt.xlabel('Time bins'); plt.ylabel('Frequency bins'); plt.colorbar(format='%+2.0f dB'); plt.title('Spectrogram');"
   ]
  },
  {
   "cell_type": "code",
   "execution_count": null,
   "metadata": {
    "colab": {
     "base_uri": "https://localhost:8080/",
     "height": 1000
    },
    "colab_type": "code",
    "executionInfo": {
     "elapsed": 16841,
     "status": "ok",
     "timestamp": 1598643558526,
     "user": {
      "displayName": "Daniyal Ahmed",
      "photoUrl": "",
      "userId": "08861004385506740697"
     },
     "user_tz": -300
    },
    "id": "7Vk7NHl8h9W-",
    "outputId": "7c8ef25b-c93a-461c-b49b-66cc0e2eb6ad"
   },
   "outputs": [],
   "source": [
    "import librosa\n",
    "import numpy as np\n",
    "import matplotlib.pyplot as plt\n",
    "import librosa.display\n",
    "\n",
    "\n",
    "y, sr = librosa.load(file_path, sr=44100)\n",
    "\n",
    "X = librosa.stft(y)\n",
    "Xdb = librosa.amplitude_to_db(abs(X))\n",
    "librosa.display.specshow(Xdb, sr=sr, x_axis='time', y_axis='hz')\n",
    "plt.colorbar()\n",
    "plt.figure(figsize=(14, 5))\n",
    "librosa.display.specshow(Xdb, sr=sr, x_axis='time', y_axis='log')\n",
    "plt.colorbar()\n",
    "\n",
    "plt.figure(figsize=(14, 5))\n",
    "librosa.display.waveplot(y, sr=sr)\n",
    "plt.figure(figsize=(14, 5))\n",
    "# short time fourier transform\n",
    "# (n_fft and hop length determine frequency/time resolution)\n",
    "n_fft = 2048\n",
    "S = librosa.stft(y, n_fft=n_fft, hop_length=n_fft//2)\n",
    "# convert to db\n",
    "D = librosa.amplitude_to_db(np.abs(S), ref=np.max)\n",
    "# average over file\n",
    "D_AVG = np.mean(D, axis=1)\n",
    "\n",
    "plt.bar(np.arange(D_AVG.shape[0]), D_AVG)\n",
    "x_ticks_positions = [n for n in range(0, n_fft // 2, n_fft // 16)]\n",
    "x_ticks_labels = [str(sr / 2048 * n) + 'Hz' for n in x_ticks_positions]\n",
    "plt.xticks(x_ticks_positions, x_ticks_labels)\n",
    "plt.xticks(fontsize=14, rotation=90)\n",
    "plt.xlabel('Frequency')\n",
    "plt.ylabel('dB')\n",
    "plt.show()"
   ]
  },
  {
   "cell_type": "code",
   "execution_count": null,
   "metadata": {
    "colab": {
     "base_uri": "https://localhost:8080/",
     "height": 85
    },
    "colab_type": "code",
    "executionInfo": {
     "elapsed": 19265,
     "status": "ok",
     "timestamp": 1598643561210,
     "user": {
      "displayName": "Daniyal Ahmed",
      "photoUrl": "",
      "userId": "08861004385506740697"
     },
     "user_tz": -300
    },
    "id": "c_V6OmRdkrDe",
    "outputId": "6317413b-c5c0-4a2f-aec1-68a59350272c"
   },
   "outputs": [],
   "source": [
    "import librosa\n",
    "import numpy\n",
    "y, sr = librosa.load(file_path)\n",
    "n_fft = 1024\n",
    "hop_length = 12\n",
    "\n",
    "spec = numpy.abs(librosa.core.stft(y, n_fft=n_fft, hop_length=hop_length))\n",
    "freqs = librosa.core.fft_frequencies(n_fft=n_fft)\n",
    "times = librosa.core.frames_to_time(spec[0], sr=sr, n_fft=n_fft, hop_length=hop_length)\n",
    "\n",
    "print('spectrogram size', spec.shape)\n",
    "\n",
    "fft_bin = 100\n",
    "time_idx = 1000\n",
    "\n",
    "print('freq (Hz)', freqs[fft_bin])\n",
    "print('time (s)', times[time_idx])\n",
    "print('amplitude', spec[fft_bin, time_idx])"
   ]
  },
  {
   "cell_type": "code",
   "execution_count": null,
   "metadata": {
    "colab": {
     "base_uri": "https://localhost:8080/",
     "height": 313
    },
    "colab_type": "code",
    "executionInfo": {
     "elapsed": 19168,
     "status": "ok",
     "timestamp": 1598643561251,
     "user": {
      "displayName": "Daniyal Ahmed",
      "photoUrl": "",
      "userId": "08861004385506740697"
     },
     "user_tz": -300
    },
    "id": "vldwT75amOYN",
    "outputId": "9500a502-07e3-4ceb-83b6-c0a6bcbf6275"
   },
   "outputs": [],
   "source": [
    "#spectral centroid -- centre of mass -- weighted mean of the frequencies present in the sound\n",
    "import sklearn\n",
    "spectral_centroids = librosa.feature.spectral_centroid(y, sr=sr)[0]\n",
    "spectral_centroids.shape\n",
    "# Computing the time variable for visualization\n",
    "frames = range(len(spectral_centroids))\n",
    "t = librosa.frames_to_time(frames)\n",
    "# Normalising the spectral centroid for visualisation\n",
    "def normalize(x, axis=0):\n",
    "    return sklearn.preprocessing.minmax_scale(x, axis=axis)\n",
    "#Plotting the Spectral Centroid along the waveform\n",
    "librosa.display.waveplot(y, sr=sr, alpha=0.4)\n",
    "plt.plot(t, normalize(spectral_centroids), color='r')"
   ]
  },
  {
   "cell_type": "code",
   "execution_count": null,
   "metadata": {
    "colab": {
     "base_uri": "https://localhost:8080/",
     "height": 313
    },
    "colab_type": "code",
    "executionInfo": {
     "elapsed": 19529,
     "status": "ok",
     "timestamp": 1598643561867,
     "user": {
      "displayName": "Daniyal Ahmed",
      "photoUrl": "",
      "userId": "08861004385506740697"
     },
     "user_tz": -300
    },
    "id": "hy5G3pdsm3TF",
    "outputId": "c0b02427-32e9-41d9-afd9-f9ff506bccd3"
   },
   "outputs": [],
   "source": [
    "spectral_rolloff = librosa.feature.spectral_rolloff(y, sr=sr)[0]\n",
    "librosa.display.waveplot(y, sr=sr, alpha=0.4)\n",
    "plt.plot(t, normalize(spectral_rolloff), color='r')"
   ]
  },
  {
   "cell_type": "code",
   "execution_count": null,
   "metadata": {
    "colab": {
     "base_uri": "https://localhost:8080/",
     "height": 493
    },
    "colab_type": "code",
    "executionInfo": {
     "elapsed": 19831,
     "status": "ok",
     "timestamp": 1598643562330,
     "user": {
      "displayName": "Daniyal Ahmed",
      "photoUrl": "",
      "userId": "08861004385506740697"
     },
     "user_tz": -300
    },
    "id": "t3plSZc9n6LE",
    "outputId": "2a19ad9a-d0b7-443b-c79e-6b5eca8f4da9"
   },
   "outputs": [],
   "source": [
    "mfccs = librosa.feature.mfcc(y, sr=sr)\n",
    "print(mfccs.shape)\n",
    "#Displaying  the MFCCs:\n",
    "plt.figure(figsize=(15, 7))\n",
    "librosa.display.specshow(mfccs, sr=sr, x_axis='time')\n",
    "\n",
    "plt.colorbar()\n",
    "\n",
    "#20 is my number of mfccs i.e. features and 393 samples"
   ]
  },
  {
   "cell_type": "code",
   "execution_count": null,
   "metadata": {
    "colab": {
     "base_uri": "https://localhost:8080/",
     "height": 585
    },
    "colab_type": "code",
    "executionInfo": {
     "elapsed": 20601,
     "status": "ok",
     "timestamp": 1598643563439,
     "user": {
      "displayName": "Daniyal Ahmed",
      "photoUrl": "",
      "userId": "08861004385506740697"
     },
     "user_tz": -300
    },
    "id": "vU7Yrye1CGgR",
    "outputId": "f71e07c9-79f3-4077-d6ec-e2dc2e8858f2"
   },
   "outputs": [],
   "source": [
    "spectral_bandwidth_2 = librosa.feature.spectral_bandwidth(y+0.01, sr=sr)[0]\n",
    "spectral_bandwidth_3 = librosa.feature.spectral_bandwidth(y+0.01, sr=sr, p=3)[0]\n",
    "spectral_bandwidth_4 = librosa.feature.spectral_bandwidth(y+0.01, sr=sr, p=4)[0]\n",
    "plt.figure(figsize=(15, 9))\n",
    "librosa.display.waveplot(y, sr=sr, alpha=0.4)\n",
    "plt.plot(t, normalize(spectral_bandwidth_2), color='r')\n",
    "plt.plot(t, normalize(spectral_bandwidth_3), color='g')\n",
    "plt.plot(t, normalize(spectral_bandwidth_4), color='y')\n",
    "plt.legend(('p = 2', 'p = 3', 'p = 4'))"
   ]
  },
  {
   "cell_type": "code",
   "execution_count": null,
   "metadata": {
    "colab": {
     "base_uri": "https://localhost:8080/",
     "height": 34
    },
    "colab_type": "code",
    "executionInfo": {
     "elapsed": 20399,
     "status": "ok",
     "timestamp": 1598643563441,
     "user": {
      "displayName": "Daniyal Ahmed",
      "photoUrl": "",
      "userId": "08861004385506740697"
     },
     "user_tz": -300
    },
    "id": "4Ca1xVOUDtjH",
    "outputId": "dde24360-9f9c-482c-ab78-36e63dc159e0"
   },
   "outputs": [],
   "source": [
    "zero_crossings = librosa.zero_crossings(y[9000:9100], pad=False)\n",
    "print(sum(zero_crossings))"
   ]
  },
  {
   "cell_type": "code",
   "execution_count": null,
   "metadata": {
    "colab": {},
    "colab_type": "code",
    "executionInfo": {
     "elapsed": 20834,
     "status": "ok",
     "timestamp": 1598643564132,
     "user": {
      "displayName": "Daniyal Ahmed",
      "photoUrl": "",
      "userId": "08861004385506740697"
     },
     "user_tz": -300
    },
    "id": "xDHyulxtop9x"
   },
   "outputs": [],
   "source": [
    "from scipy.signal import butter, lfilter\n",
    "\n",
    "\n",
    "def butter_bandpass(lowcut, highcut, fs, order=5):\n",
    "    nyq = 0.5 * fs\n",
    "    low = lowcut / nyq\n",
    "    high = highcut / nyq\n",
    "    b, a = butter(order, [low, high], btype='band')\n",
    "    return b, a\n",
    "\n",
    "\n",
    "def butter_bandpass_filter(data, lowcut, highcut, fs, order=5):\n",
    "    b, a = butter_bandpass(lowcut, highcut, fs, order=order)\n",
    "    y = lfilter(b, a, data)\n",
    "    return y\n",
    "    "
   ]
  },
  {
   "cell_type": "code",
   "execution_count": null,
   "metadata": {
    "colab": {
     "base_uri": "https://localhost:8080/",
     "height": 559
    },
    "colab_type": "code",
    "executionInfo": {
     "elapsed": 20631,
     "status": "ok",
     "timestamp": 1598643564138,
     "user": {
      "displayName": "Daniyal Ahmed",
      "photoUrl": "",
      "userId": "08861004385506740697"
     },
     "user_tz": -300
    },
    "id": "Zcokx0HypMmx",
    "outputId": "45724e4c-0405-4108-e98d-438a6c4c3e2e"
   },
   "outputs": [],
   "source": [
    "from scipy.signal import freqz\n",
    "lowcut = 5000.0\n",
    "highcut =8000.0\n",
    "fs=sr\n",
    "plt.figure(1)\n",
    "plt.clf()\n",
    "for order in [3, 6, 9]:\n",
    "  b, a = butter_bandpass(lowcut, highcut, fs, order=order)\n",
    "  w, h = freqz(b, a, worN=2000)\n",
    "  plt.plot((fs * 0.5 / np.pi) * w, abs(h), label=\"order = %d\" % order)\n",
    "#plot of my bandpass filter\n",
    "plt.plot([0, 0.5 * fs], [np.sqrt(0.5), np.sqrt(0.5)],\n",
    "             '--', label='sqrt(0.5)')\n",
    "plt.figure()\n",
    "filter_y= butter_bandpass_filter(y, lowcut, highcut, fs, order=6)\n",
    "plt.plot(filter_y, label='Filtered signal')\n",
    "plt.xlabel('time (seconds)')\n",
    "plt.grid(True)\n",
    "plt.axis('tight')\n",
    "plt.legend(loc='upper left')\n",
    "plt.show()"
   ]
  },
  {
   "cell_type": "code",
   "execution_count": null,
   "metadata": {
    "colab": {
     "base_uri": "https://localhost:8080/",
     "height": 764
    },
    "colab_type": "code",
    "executionInfo": {
     "elapsed": 22085,
     "status": "ok",
     "timestamp": 1598643565792,
     "user": {
      "displayName": "Daniyal Ahmed",
      "photoUrl": "",
      "userId": "08861004385506740697"
     },
     "user_tz": -300
    },
    "id": "WIF5TPpor-Gn",
    "outputId": "39da9369-cc45-4045-d4c9-157c051117e6"
   },
   "outputs": [],
   "source": [
    "plt.figure(figsize=(14, 5))\n",
    "librosa.display.waveplot(filter_y, sr=sr)\n",
    "plt.figure(figsize=(14, 5))\n",
    "# short time fourier transform\n",
    "# (n_fft and hop length determine frequency/time resolution)\n",
    "n_fft = 2048\n",
    "S = librosa.stft(filter_y, n_fft=n_fft, hop_length=n_fft//2)\n",
    "# convert to db\n",
    "D = librosa.amplitude_to_db(np.abs(S), ref=np.max)\n",
    "# average over file\n",
    "D_AVG = np.mean(D, axis=1)\n",
    "\n",
    "plt.bar(np.arange(D_AVG.shape[0]), D_AVG)\n",
    "x_ticks_positions = [n for n in range(0, n_fft // 2, n_fft // 16)]\n",
    "x_ticks_labels = [str(sr / 2048 * n) + 'Hz' for n in x_ticks_positions]\n",
    "plt.xticks(x_ticks_positions, x_ticks_labels)\n",
    "plt.xticks(fontsize=14, rotation=90)\n",
    "plt.xlabel('Frequency')\n",
    "plt.ylabel('dB')\n",
    "plt.show()"
   ]
  },
  {
   "cell_type": "code",
   "execution_count": null,
   "metadata": {
    "colab": {
     "base_uri": "https://localhost:8080/",
     "height": 313
    },
    "colab_type": "code",
    "executionInfo": {
     "elapsed": 22131,
     "status": "ok",
     "timestamp": 1598643566512,
     "user": {
      "displayName": "Daniyal Ahmed",
      "photoUrl": "",
      "userId": "08861004385506740697"
     },
     "user_tz": -300
    },
    "id": "J3VayLQoW5DR",
    "outputId": "89c26e7d-2c82-49ae-c959-558df00fb898"
   },
   "outputs": [],
   "source": [
    "import sklearn\n",
    "spectral_centroids = librosa.feature.spectral_centroid(filter_y, sr=sr)[0]\n",
    "# Computing the time variable for visualization\n",
    "plt.figure(figsize=(12, 4))\n",
    "frames = range(len(spectral_centroids))\n",
    "t = librosa.frames_to_time(frames)\n",
    "# Normalising the spectral centroid for visualisation\n",
    "def normalize(x, axis=0):\n",
    "    return sklearn.preprocessing.minmax_scale(x, axis=axis)\n",
    "#Plotting the Spectral Centroid along the waveform\n",
    "librosa.display.waveplot(filter_y, sr=sr, alpha=0.4)\n",
    "plt.plot(t, normalize(spectral_centroids), color='b')\n"
   ]
  },
  {
   "cell_type": "code",
   "execution_count": null,
   "metadata": {
    "colab": {
     "base_uri": "https://localhost:8080/",
     "height": 585
    },
    "colab_type": "code",
    "executionInfo": {
     "elapsed": 22766,
     "status": "ok",
     "timestamp": 1598643567412,
     "user": {
      "displayName": "Daniyal Ahmed",
      "photoUrl": "",
      "userId": "08861004385506740697"
     },
     "user_tz": -300
    },
    "id": "XZVAKkwtBa_a",
    "outputId": "eb3dc32e-bc89-4690-ef8e-184e9a8bad83"
   },
   "outputs": [],
   "source": [
    "spectral_bandwidth_2 = librosa.feature.spectral_bandwidth(filter_y+0.01, sr=sr)[0]\n",
    "spectral_bandwidth_3 = librosa.feature.spectral_bandwidth(filter_y+0.01, sr=sr, p=3)[0]\n",
    "spectral_bandwidth_4 = librosa.feature.spectral_bandwidth(filter_y+0.01, sr=sr, p=4)[0]\n",
    "plt.figure(figsize=(15, 9))\n",
    "librosa.display.waveplot(y, sr=sr, alpha=0.4)\n",
    "plt.plot(t, normalize(spectral_bandwidth_2), color='r')\n",
    "plt.plot(t, normalize(spectral_bandwidth_3), color='g')\n",
    "plt.plot(t, normalize(spectral_bandwidth_4), color='y')\n",
    "plt.legend(('p = 2', 'p = 3', 'p = 4'))"
   ]
  },
  {
   "cell_type": "code",
   "execution_count": null,
   "metadata": {
    "colab": {
     "base_uri": "https://localhost:8080/",
     "height": 34
    },
    "colab_type": "code",
    "executionInfo": {
     "elapsed": 22517,
     "status": "ok",
     "timestamp": 1598643567425,
     "user": {
      "displayName": "Daniyal Ahmed",
      "photoUrl": "",
      "userId": "08861004385506740697"
     },
     "user_tz": -300
    },
    "id": "8qSEpqsPBhe6",
    "outputId": "2576c1f3-74eb-4a9a-ef2d-49e1d1730040"
   },
   "outputs": [],
   "source": [
    "zero_crossings = librosa.zero_crossings(filter_y[9000:9100], pad=False)\n",
    "print(sum(zero_crossings))\n"
   ]
  },
  {
   "cell_type": "code",
   "execution_count": null,
   "metadata": {
    "colab": {
     "base_uri": "https://localhost:8080/",
     "height": 493
    },
    "colab_type": "code",
    "executionInfo": {
     "elapsed": 22844,
     "status": "ok",
     "timestamp": 1598643568173,
     "user": {
      "displayName": "Daniyal Ahmed",
      "photoUrl": "",
      "userId": "08861004385506740697"
     },
     "user_tz": -300
    },
    "id": "DZbJDXLKCS6o",
    "outputId": "ae6035ca-aff1-4d53-948a-e9c8f58af629"
   },
   "outputs": [],
   "source": [
    "mfccs = librosa.feature.mfcc(filter_y, sr=sr)\n",
    "print(mfccs.shape)\n",
    "#Displaying  the MFCCs:\n",
    "plt.figure(figsize=(15, 7))\n",
    "librosa.display.specshow(mfccs, sr=sr, x_axis='time')"
   ]
  },
  {
   "cell_type": "code",
   "execution_count": null,
   "metadata": {
    "colab": {
     "base_uri": "https://localhost:8080/",
     "height": 402
    },
    "colab_type": "code",
    "executionInfo": {
     "elapsed": 22581,
     "status": "ok",
     "timestamp": 1598643568174,
     "user": {
      "displayName": "Daniyal Ahmed",
      "photoUrl": "",
      "userId": "08861004385506740697"
     },
     "user_tz": -300
    },
    "id": "9zlI_O36ClBF",
    "outputId": "479ec8ca-545c-4f08-84f8-2ad6af771dcc"
   },
   "outputs": [],
   "source": [
    "chromagram = librosa.feature.chroma_stft(filter_y, sr=sr, hop_length=9000)\n",
    "plt.figure(figsize=(15, 5))\n",
    "librosa.display.specshow(chromagram, x_axis='time', y_axis='chroma', hop_length=9000, cmap='coolwarm')"
   ]
  },
  {
   "cell_type": "code",
   "execution_count": null,
   "metadata": {
    "colab": {
     "base_uri": "https://localhost:8080/",
     "height": 54
    },
    "colab_type": "code",
    "executionInfo": {
     "elapsed": 22272,
     "status": "ok",
     "timestamp": 1598643568176,
     "user": {
      "displayName": "Daniyal Ahmed",
      "photoUrl": "",
      "userId": "08861004385506740697"
     },
     "user_tz": -300
    },
    "id": "QuV4Q917C6YH",
    "outputId": "53fa8814-080f-4770-f97b-952873196855"
   },
   "outputs": [],
   "source": [
    "import subprocess\n",
    "\n",
    "# define the ls command\n",
    "ls = subprocess.Popen([\"ls\", \"-p\", \".\"],\n",
    "                      stdout=subprocess.PIPE,\n",
    "                     )\n",
    "# define the grep command\n",
    "grep = subprocess.Popen([\"grep\", \"-v\", \"$/\"],\n",
    "                        stdin=ls.stdout,\n",
    "                        stdout=subprocess.PIPE,\n",
    "                        )\n",
    "\n",
    "# read from the end of the pipe (stdout)\n",
    "endOfPipe = grep.stdout\n",
    "classlist=[]\n",
    "# output the files line by line\n",
    "for line in endOfPipe:\n",
    "    classlist.append(line.decode('ascii').rstrip(\"\\n\"))\n",
    "print(classlist)"
   ]
  },
  {
   "cell_type": "code",
   "execution_count": null,
   "metadata": {
    "colab": {
     "base_uri": "https://localhost:8080/",
     "height": 1000
    },
    "colab_type": "code",
    "executionInfo": {
     "elapsed": 1903734,
     "status": "error",
     "timestamp": 1598645646127,
     "user": {
      "displayName": "Daniyal Ahmed",
      "photoUrl": "",
      "userId": "08861004385506740697"
     },
     "user_tz": -300
    },
    "id": "5Y3B93auGtXY",
    "outputId": "0bdae120-a4c8-4dff-cc3a-4c523ff72a0b"
   },
   "outputs": [],
   "source": [
    "import os\n",
    "\n",
    "i=0\n",
    "output_path='/content/mnt/My Drive/Filtered Sound/'\n",
    "if not os.path.exists(output_path):\n",
    "  print(\"Path not present Creating now\")\n",
    "  os.mkdir(output_path)\n",
    "files_class=dict()\n",
    "for folder in classlist:\n",
    "  files=subprocess.Popen([\"ls\", path+folder],\n",
    "                        stdout=subprocess.PIPE,\n",
    "                         )\n",
    "  # read from the end of the pipe (stdout)\n",
    "  endOfPipe = files.stdout\n",
    "  # output the files line by line\n",
    "  print(path+folder)\n",
    "  if not os.path.exists(output_path+folder):\n",
    "    os.mkdir(output_path+folder)\n",
    "  print(\"In Folder\", folder)\n",
    "\n",
    "  for line in endOfPipe:\n",
    "    print(\"   Creating file\",line.decode('ascii').rstrip(\"\\n\") )\n",
    "    y, sr = librosa.load(path+folder+line.decode('ascii').rstrip(\"\\n\"), sr=44100)\n",
    "    filter_y= butter_bandpass_filter(y, lowcut, highcut, fs, order=6)\n",
    "    librosa.output.write_wav(output_path+folder+line.decode('ascii').rstrip(\"\\n\"), filter_y, sr)      \n",
    "  if i==10:\n",
    "    break\n",
    "  i=i+1"
   ]
  },
  {
   "cell_type": "code",
   "execution_count": null,
   "metadata": {
    "colab": {},
    "colab_type": "code",
    "executionInfo": {
     "elapsed": 19478,
     "status": "aborted",
     "timestamp": 1598643568178,
     "user": {
      "displayName": "Daniyal Ahmed",
      "photoUrl": "",
      "userId": "08861004385506740697"
     },
     "user_tz": -300
    },
    "id": "WEiaQ2S0Ohps"
   },
   "outputs": [],
   "source": []
  }
 ],
 "metadata": {
  "colab": {
   "collapsed_sections": [],
   "name": "Data_Preprocessing.ipynb",
   "provenance": []
  },
  "kernelspec": {
   "display_name": "Python 3",
   "language": "python",
   "name": "python3"
  },
  "language_info": {
   "codemirror_mode": {
    "name": "ipython",
    "version": 3
   },
   "file_extension": ".py",
   "mimetype": "text/x-python",
   "name": "python",
   "nbconvert_exporter": "python",
   "pygments_lexer": "ipython3",
   "version": "3.7.4"
  }
 },
 "nbformat": 4,
 "nbformat_minor": 1
}
